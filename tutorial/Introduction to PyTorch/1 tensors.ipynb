{
 "cells": [
  {
   "cell_type": "code",
   "execution_count": 1,
   "metadata": {},
   "outputs": [],
   "source": [
    "import torch\n",
    "import numpy as np"
   ]
  },
  {
   "cell_type": "code",
   "execution_count": 2,
   "metadata": {},
   "outputs": [
    {
     "name": "stdout",
     "output_type": "stream",
     "text": [
      "x_data:\n",
      "tensor([[1, 2],\n",
      "        [3, 4]])\n",
      "\n",
      "np_array:\n",
      "[[1 2]\n",
      " [3 4]]\n",
      "x_np:\n",
      "tensor([[1, 2],\n",
      "        [3, 4]], dtype=torch.int32)\n",
      "\n",
      "Ones Tensor: \n",
      "tensor([[1, 1],\n",
      "        [1, 1]])\n",
      "\n",
      "Random Tensor: \n",
      " tensor([[0.6369, 0.3899],\n",
      "        [0.5872, 0.2184]])\n",
      "\n",
      "Random Tensor: \n",
      " tensor([[0.0219, 0.3537, 0.1732],\n",
      "        [0.6471, 0.9515, 0.7932]]) \n",
      "\n",
      "Ones Tensor: \n",
      " tensor([[1., 1., 1.],\n",
      "        [1., 1., 1.]]) \n",
      "\n",
      "Zeros Tensor: \n",
      " tensor([[0., 0., 0.],\n",
      "        [0., 0., 0.]])\n"
     ]
    }
   ],
   "source": [
    "# initializing a data\n",
    "\n",
    "# from data\n",
    "data = [[1,2], [3,4]]\n",
    "np_array = np.array(data)\n",
    "\n",
    "x_data = torch.tensor(data)\n",
    "print(f\"x_data:\\n{x_data}\")\n",
    "\n",
    "# from numpy array\n",
    "x_np = torch.from_numpy(np_array)\n",
    "print(f\"\\nnp_array:\\n{np_array}\")\n",
    "print(f\"x_np:\\n{x_np}\")\n",
    "\n",
    "# from another tensor\n",
    "# The new tensor retains the properties (shape, datatype) of the argument tensor, unless explicitly overridden.\n",
    "x_ones = torch.ones_like(x_data)\n",
    "print(f\"\\nOnes Tensor: \\n{x_ones}\")\n",
    "\n",
    "x_rand = torch.rand_like(x_data, dtype=torch.float)\n",
    "print(f\"\\nRandom Tensor: \\n {x_rand}\")\n",
    "\n",
    "# using shape\n",
    "shape = (2,3)\n",
    "rand_tensor = torch.rand(shape)\n",
    "ones_tensor = torch.ones(shape)\n",
    "zeros_tensor = torch.zeros(shape)\n",
    "print(f\"\\nRandom Tensor: \\n {rand_tensor} \\n\")\n",
    "print(f\"Ones Tensor: \\n {ones_tensor} \\n\")\n",
    "print(f\"Zeros Tensor: \\n {zeros_tensor}\")"
   ]
  },
  {
   "cell_type": "code",
   "execution_count": 3,
   "metadata": {},
   "outputs": [
    {
     "name": "stdout",
     "output_type": "stream",
     "text": [
      "\n",
      "tensor.shape = torch.Size([3, 4])\n",
      "tensor.size() = torch.Size([3, 4])\n",
      "tensor.dtype = torch.float32\n",
      "tensor.device = device(type='cpu')\n"
     ]
    }
   ],
   "source": [
    "# attributes of a tensor\n",
    "tensor = torch.rand(3,4)\n",
    "print(f\"\\n{tensor.shape = }\")\n",
    "print(f\"{tensor.size() = }\")\n",
    "print(f\"{tensor.dtype = }\")\n",
    "print(f\"{tensor.device = }\")"
   ]
  },
  {
   "cell_type": "markdown",
   "metadata": {},
   "source": [
    "# Operations on Tensors\n",
    "torch operation can be found [here](https://pytorch.org/docs/stable/torch.html)"
   ]
  },
  {
   "cell_type": "code",
   "execution_count": 4,
   "metadata": {},
   "outputs": [],
   "source": [
    "# moving to GPU\n",
    "if torch.cuda.is_available():\n",
    "    tensor = tensor.to(\"cuda\")"
   ]
  },
  {
   "cell_type": "code",
   "execution_count": 5,
   "metadata": {},
   "outputs": [
    {
     "name": "stdout",
     "output_type": "stream",
     "text": [
      "tensor:\n",
      "tensor([[1., 1., 1., 1.],\n",
      "        [1., 1., 1., 1.],\n",
      "        [1., 1., 1., 1.]])\n",
      "first row: tensor([1., 1., 1., 1.])\n",
      "first col: tensor([1., 1., 1.])\n",
      "last col: tensor([1., 1., 1.])\n",
      "tensor:\n",
      "tensor([[1., 0., 1., 1.],\n",
      "        [1., 0., 1., 1.],\n",
      "        [1., 0., 1., 1.]])\n"
     ]
    }
   ],
   "source": [
    "# slicing\n",
    "tensor = torch.ones(3,4)\n",
    "print(f\"tensor:\\n{tensor}\")\n",
    "print(f\"first row: {tensor[0]}\")\n",
    "print(f\"first col: {tensor[:,0]}\")\n",
    "print(f\"last col: {tensor[...,-1]}\")\n",
    "\n",
    "tensor[:,1] = 0\n",
    "print(f\"tensor:\\n{tensor}\")"
   ]
  },
  {
   "cell_type": "code",
   "execution_count": 6,
   "metadata": {},
   "outputs": [
    {
     "name": "stdout",
     "output_type": "stream",
     "text": [
      "t1\n",
      "tensor([[1., 0., 1., 1., 1., 0., 1., 1., 1., 0., 1., 1.],\n",
      "        [1., 0., 1., 1., 1., 0., 1., 1., 1., 0., 1., 1.],\n",
      "        [1., 0., 1., 1., 1., 0., 1., 1., 1., 0., 1., 1.]])\n"
     ]
    }
   ],
   "source": [
    "# join tensors\n",
    "t1 = torch.cat([tensor, tensor, tensor], dim=1)\n",
    "print(f\"t1\\n{t1}\")"
   ]
  },
  {
   "cell_type": "code",
   "execution_count": 7,
   "metadata": {},
   "outputs": [
    {
     "name": "stdout",
     "output_type": "stream",
     "text": [
      "y1:\n",
      "tensor([[3., 3., 3.],\n",
      "        [3., 3., 3.],\n",
      "        [3., 3., 3.]])\n",
      "z3:\n",
      "tensor([[1., 0., 1., 1.],\n",
      "        [1., 0., 1., 1.],\n",
      "        [1., 0., 1., 1.]])\n"
     ]
    }
   ],
   "source": [
    "# arithmetic ops\n",
    "## matrix multiplication\n",
    "y1 = tensor @ tensor.T\n",
    "y2 = tensor.matmul(tensor.T)\n",
    "print(f\"y1:\\n{y1}\")\n",
    "\n",
    "y3 = torch.rand_like(y1)\n",
    "torch.matmul(tensor, tensor.T, out=y3)\n",
    "\n",
    "## element wise product\n",
    "z1 = tensor * tensor\n",
    "z2 = tensor.mul(tensor)\n",
    "\n",
    "z3 = torch.rand_like(tensor)\n",
    "torch.mul(tensor, tensor, out=z3)\n",
    "print(f\"z3:\\n{z3}\")"
   ]
  },
  {
   "cell_type": "code",
   "execution_count": 8,
   "metadata": {},
   "outputs": [
    {
     "name": "stdout",
     "output_type": "stream",
     "text": [
      "agg = tensor(9.)\n",
      "agg_item = 9.0, <class 'float'>\n"
     ]
    }
   ],
   "source": [
    "# converting single element tensor to a python numerical value\n",
    "agg = tensor.sum()\n",
    "agg_item = agg.item() # .item() converts to a python numerical value \n",
    "print(f\"{agg = }\")\n",
    "print(f\"{agg_item = }, {type(agg_item)}\")"
   ]
  },
  {
   "cell_type": "markdown",
   "metadata": {},
   "source": [
    "## inplace operations \n",
    "(24 dec 2023, pytorch says their derivative can be problematic and is discouraged to use)"
   ]
  },
  {
   "cell_type": "code",
   "execution_count": 9,
   "metadata": {},
   "outputs": [
    {
     "name": "stdout",
     "output_type": "stream",
     "text": [
      "tensor([[1., 0., 1., 1.],\n",
      "        [1., 0., 1., 1.],\n",
      "        [1., 0., 1., 1.]])\n",
      "tensor([[6., 5., 6., 6.],\n",
      "        [6., 5., 6., 6.],\n",
      "        [6., 5., 6., 6.]])\n"
     ]
    }
   ],
   "source": [
    "print(f\"{tensor}\")\n",
    "tensor.add_(5)\n",
    "print(f\"{tensor}\")"
   ]
  },
  {
   "cell_type": "markdown",
   "metadata": {},
   "source": [
    "# bridging with numpy "
   ]
  },
  {
   "cell_type": "code",
   "execution_count": 10,
   "metadata": {},
   "outputs": [
    {
     "name": "stdout",
     "output_type": "stream",
     "text": [
      "t: tensor([1., 1., 1., 1., 1.])\n",
      "n: [1. 1. 1. 1. 1.]\n",
      "\n",
      "t: tensor([2., 2., 2., 2., 2.])\n",
      "n: [2. 2. 2. 2. 2.]\n",
      "\n",
      "t: tensor([2., 2., 2., 2., 2.], dtype=torch.float64)\n",
      "n: [2. 2. 2. 2. 2.]\n"
     ]
    }
   ],
   "source": [
    "t = torch.ones(5)\n",
    "n = t.numpy()\n",
    "print(f\"t: {t}\")\n",
    "print(f\"n: {n}\")\n",
    "\n",
    "# A change in tensor reflects in the numpy array and vice versa\n",
    "t.add_(1)\n",
    "print(f\"\\nt: {t}\")\n",
    "print(f\"n: {n}\")\n",
    "\n",
    "n = np.ones(5)\n",
    "t = torch.from_numpy(n)\n",
    "np.add(n, 1, out=n)\n",
    "print(f\"\\nt: {t}\")\n",
    "print(f\"n: {n}\")"
   ]
  }
 ],
 "metadata": {
  "kernelspec": {
   "display_name": "py310_2env",
   "language": "python",
   "name": "python3"
  },
  "language_info": {
   "codemirror_mode": {
    "name": "ipython",
    "version": 3
   },
   "file_extension": ".py",
   "mimetype": "text/x-python",
   "name": "python",
   "nbconvert_exporter": "python",
   "pygments_lexer": "ipython3",
   "version": "3.10.13"
  }
 },
 "nbformat": 4,
 "nbformat_minor": 2
}
